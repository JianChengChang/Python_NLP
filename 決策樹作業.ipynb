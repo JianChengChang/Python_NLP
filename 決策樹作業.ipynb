{
 "cells": [
  {
   "cell_type": "markdown",
   "metadata": {},
   "source": [
    "### 作業目的:了解決策樹的節點分支依據\n",
    "本次作業可參考簡報中的延伸閱讀[訊息增益](https://medium.com/jameslearningnote/%E8%B3%87%E6%96%99%E5%88%86%E6%9E%90-%E6%A9%9F%E5%99%A8%E5%AD%B8%E7%BF%92-%E7%AC%AC3-5%E8%AC%9B-%E6%B1%BA%E7%AD%96%E6%A8%B9-decision-tree-%E4%BB%A5%E5%8F%8A%E9%9A%A8%E6%A9%9F%E6%A3%AE%E6%9E%97-random-forest-%E4%BB%8B%E7%B4%B9-7079b0ddfbda)部分"
   ]
  },
  {
   "cell_type": "markdown",
   "metadata": {},
   "source": [
    "#### Question:\n",
    "若你是決策樹，下列兩種分類狀況(a,b)，你會選擇哪種做分類？為什麼？\n",
    "\n",
    "<img src='hw_1.png' style='width:500px'>"
   ]
  },
  {
   "cell_type": "markdown",
   "metadata": {},
   "source": [
    "### Answer:\n",
    "\n",
    "Entropy\n",
    "  \n",
    "(a).   \n",
    "  \n",
    "IhDP = - (20/40 * log2(20/40) + 20/40 * log2(20/40)) = 1  \n",
    "IhDleft = - (15/20 * log2(15/20) + 5/20 * log2(5/20)) = 0.81  \n",
    "IhDright = - (15/20 * log2(15/20) + 5/20 * log2(5/20)) = 0.81  \n",
    "Igh = 1 - 20/40 * 0.81 - 20/40 * 0.81 = 0.19  \n",
    "  \n",
    "(b).  \n",
    "  \n",
    "IhDP = - (20/40 * log2(20/40) + 20/40 * log2(20/40)) = 1  \n",
    "IhDleft = - (15/35 * log2(15/35) + 20/35 * log2(20/35)) = 0.985228  \n",
    "IhDright = - (5/5 * log2(5/5) + 0) = 0  \n",
    "Igh = 1 - 35/40 * 0.985228 - 5/40 * 0 = 0.137925  \n",
    "  \n",
    "a 的訊息增量比較高  \n",
    "我選擇 a 分法  \n"
   ]
  },
  {
   "cell_type": "markdown",
   "metadata": {},
   "source": [
    "### 閱讀作業\n",
    "\n",
    "決策樹根據計算分割準則的不同(ex: Entropy, Gini, Gain ratio)，可分為ID3, C4.5, CART樹的算法，請同學閱讀下列文章，來更加了解決策樹的算法。\n",
    "\n",
    "[決策樹(ID3, C4.5, CART)](https://blog.csdn.net/u010089444/article/details/53241218)"
   ]
  },
  {
   "cell_type": "code",
   "execution_count": null,
   "metadata": {},
   "outputs": [],
   "source": []
  }
 ],
 "metadata": {
  "kernelspec": {
   "display_name": "Python 3",
   "language": "python",
   "name": "python3"
  },
  "language_info": {
   "codemirror_mode": {
    "name": "ipython",
    "version": 3
   },
   "file_extension": ".py",
   "mimetype": "text/x-python",
   "name": "python",
   "nbconvert_exporter": "python",
   "pygments_lexer": "ipython3",
   "version": "3.7.6"
  }
 },
 "nbformat": 4,
 "nbformat_minor": 2
}
