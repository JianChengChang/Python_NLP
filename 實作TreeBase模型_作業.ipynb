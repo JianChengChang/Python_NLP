{
 "cells": [
  {
   "cell_type": "markdown",
   "metadata": {},
   "source": [
    "### 作業目的: 使用樹型模型進行文章分類\n",
    "\n",
    "本次作業主利用[Amazon Review data中的All Beauty](https://nijianmo.github.io/amazon/index.html)來進行review評價分類(文章分類)\n",
    "\n",
    "資料中將review分為1,2,3,4,5分，而在這份作業，我們將評論改分為差評價、普通評價、優良評價(1,2-->1差評、3-->2普通評價、4,5-->3優良評價)"
   ]
  },
  {
   "cell_type": "markdown",
   "metadata": {},
   "source": [
    "### 載入套件"
   ]
  },
  {
   "cell_type": "code",
   "execution_count": 11,
   "metadata": {},
   "outputs": [
    {
     "name": "stderr",
     "output_type": "stream",
     "text": [
      "[nltk_data] Downloading package stopwords to\n",
      "[nltk_data]     C:\\Users\\user\\AppData\\Roaming\\nltk_data...\n",
      "[nltk_data]   Package stopwords is already up-to-date!\n",
      "[nltk_data] Downloading package averaged_perceptron_tagger to\n",
      "[nltk_data]     C:\\Users\\user\\AppData\\Roaming\\nltk_data...\n",
      "[nltk_data]   Unzipping taggers\\averaged_perceptron_tagger.zip.\n"
     ]
    }
   ],
   "source": [
    "import json\n",
    "import re\n",
    "import nltk\n",
    "nltk.download('stopwords')\n",
    "nltk.download('averaged_perceptron_tagger')\n",
    "\n",
    "from sklearn.tree import DecisionTreeClassifier\n",
    "from sklearn.ensemble import AdaBoostClassifier, RandomForestClassifier\n",
    "from sklearn.metrics import classification_report, confusion_matrix\n",
    "from sklearn.model_selection import train_test_split\n",
    "from sklearn.feature_extraction.text import CountVectorizer, TfidfVectorizer, TfidfTransformer\n",
    "from nltk.corpus import stopwords\n",
    "\n",
    "# Lemmatize with POS Tag\n",
    "from nltk.corpus import wordnet\n",
    "from nltk.stem import WordNetLemmatizer "
   ]
  },
  {
   "cell_type": "markdown",
   "metadata": {},
   "source": [
    "### 資料前處理\n",
    "文本資料較為龐大，這裡我們取前10000筆資料來進行作業練習"
   ]
  },
  {
   "cell_type": "code",
   "execution_count": 12,
   "metadata": {},
   "outputs": [
    {
     "data": {
      "text/plain": [
       "{'overall': 1.0,\n",
       " 'verified': True,\n",
       " 'reviewTime': '02 19, 2015',\n",
       " 'reviewerID': 'A1V6B6TNIC10QE',\n",
       " 'asin': '0143026860',\n",
       " 'reviewerName': 'theodore j bigham',\n",
       " 'reviewText': 'great',\n",
       " 'summary': 'One Star',\n",
       " 'unixReviewTime': 1424304000}"
      ]
     },
     "execution_count": 12,
     "metadata": {},
     "output_type": "execute_result"
    }
   ],
   "source": [
    "#load json data\n",
    "all_reviews = []\n",
    "###<your code>###\n",
    "with open(\"./data/All_Beauty.json\", \"r\",encoding=\"utf-8\") as f:\n",
    "    for review in f:\n",
    "        all_reviews.append(json.loads(review))\n",
    "        \n",
    "all_reviews[0]"
   ]
  },
  {
   "cell_type": "code",
   "execution_count": 13,
   "metadata": {},
   "outputs": [],
   "source": [
    "#parse label(overall) and corpus(reviewText)\n",
    "corpus = []\n",
    "labels = []\n",
    "\n",
    "###<your code>###\n",
    "for review in all_reviews[:10000]:\n",
    "    if review.get(\"reviewText\",False) and review.get(\"overall\",False):\n",
    "        corpus.append(review[\"reviewText\"])\n",
    "        labels.append(review[\"overall\"])\n",
    "        \n",
    "\n",
    "#transform labels: 1,2 --> 1 and 3 --> 2 and 4,5 --> 3\n",
    "###<your code>###\n",
    "for i, label in enumerate(labels):\n",
    "    if label == 1 or label == 2:\n",
    "        labels[i] = 1\n",
    "    elif label == 3:\n",
    "        labels[i] = 2\n",
    "    else:\n",
    "        labels[i] = 3\n"
   ]
  },
  {
   "cell_type": "code",
   "execution_count": 14,
   "metadata": {},
   "outputs": [],
   "source": [
    "#preprocessing data\n",
    "#remove email address, punctuations, and change line symbol(\\n)\n",
    "\n",
    "###<your code>###\n",
    "\n",
    "lemmatizer = WordNetLemmatizer() \n",
    "def get_wordnet_pos(word):\n",
    "    \"\"\"將pos_tag結果mapping到lemmatizer中pos的格式\"\"\"\n",
    "    tag = nltk.pos_tag([word])[0][1][0].upper()\n",
    "    tag_dict = {\"J\": wordnet.ADJ,\n",
    "                \"N\": wordnet.NOUN,\n",
    "                \"V\": wordnet.VERB,\n",
    "                \"R\": wordnet.ADV}\n",
    "\n",
    "    return tag_dict.get(tag, wordnet.NOUN)\n",
    "\n",
    "def clean_content(corpus):\n",
    "    pattern = r'\\S*@\\S*|\\\\n|[^a-zA-Z0-9 ]'\n",
    "    X_clean = [re.sub(pattern,\" \",x).lower() for x in corpus if x != \"\"]\n",
    "    # tokenize\n",
    "    X_word_tokenize = [nltk.word_tokenize(x) for x in X_clean]\n",
    "    # stopwords_lemmatizer\n",
    "    X_stopwords_lemmatizer = []\n",
    "    stop_words = set(stopwords.words('english'))\n",
    "    for content in X_word_tokenize:\n",
    "        content_clean = []\n",
    "        for word in content:\n",
    "            if word not in stop_words:\n",
    "                word = lemmatizer.lemmatize(word, get_wordnet_pos(word))\n",
    "                content_clean.append(word)\n",
    "        X_stopwords_lemmatizer.append(content_clean)\n",
    "    \n",
    "    X_output = [' '.join(x) for x in X_stopwords_lemmatizer]\n",
    "    \n",
    "    return X_output\n",
    "    "
   ]
  },
  {
   "cell_type": "code",
   "execution_count": 15,
   "metadata": {},
   "outputs": [],
   "source": [
    "corpus = clean_content(corpus)"
   ]
  },
  {
   "cell_type": "code",
   "execution_count": 18,
   "metadata": {},
   "outputs": [
    {
     "data": {
      "text/plain": [
       "(8995, 1000, 8995, 1000)"
      ]
     },
     "execution_count": 18,
     "metadata": {},
     "output_type": "execute_result"
    }
   ],
   "source": [
    "#split corpus and label into train and test\n",
    "###<your code>###\n",
    "x_train, x_test, y_train, y_test = train_test_split(corpus, labels, test_size=0.1, random_state=0)\n",
    "\n",
    "len(x_train), len(x_test), len(y_train), len(y_test)"
   ]
  },
  {
   "cell_type": "code",
   "execution_count": 19,
   "metadata": {},
   "outputs": [],
   "source": [
    "#change corpus into vector\n",
    "#you can use tfidf or BoW here\n",
    "###<your code>###\n",
    "tfidf_vec = TfidfVectorizer()\n",
    "tfidf_vec.fit(x_train)\n",
    "\n",
    "#transform training and testing corpus into vector form\n",
    "x_train = tfidf_vec.transform(x_train).toarray()\n",
    "x_test = tfidf_vec.transform(x_test).toarray()"
   ]
  },
  {
   "cell_type": "markdown",
   "metadata": {},
   "source": [
    "### 訓練與預測"
   ]
  },
  {
   "cell_type": "code",
   "execution_count": 20,
   "metadata": {},
   "outputs": [
    {
     "data": {
      "text/plain": [
       "AdaBoostClassifier(base_estimator=DecisionTreeClassifier(criterion='entropy',\n",
       "                                                         max_depth=3,\n",
       "                                                         min_samples_leaf=5,\n",
       "                                                         min_samples_split=10),\n",
       "                   learning_rate=0.5, n_estimators=10)"
      ]
     },
     "execution_count": 20,
     "metadata": {},
     "output_type": "execute_result"
    }
   ],
   "source": [
    "#build classification model (decision tree, random forest, or adaboost)\n",
    "#start training\n",
    "\n",
    "###<your code>###\n",
    "tree = AdaBoostClassifier(base_estimator=DecisionTreeClassifier(criterion='entropy',max_depth=3,min_samples_split=10,min_samples_leaf=5),\n",
    "                          n_estimators=10,\n",
    "                          learning_rate=0.5)\n",
    "tree.fit(x_train,y_train)\n"
   ]
  },
  {
   "cell_type": "code",
   "execution_count": 21,
   "metadata": {},
   "outputs": [],
   "source": [
    "#start inference\n",
    "y_pred = tree.predict(x_test)"
   ]
  },
  {
   "cell_type": "code",
   "execution_count": 22,
   "metadata": {},
   "outputs": [
    {
     "name": "stdout",
     "output_type": "stream",
     "text": [
      "Accuracy: 0.89\n"
     ]
    }
   ],
   "source": [
    "#calculate accuracy\n",
    "###<your code>###\n",
    "print(f'Accuracy: {tree.score(x_test,y_test)}')"
   ]
  },
  {
   "cell_type": "code",
   "execution_count": 23,
   "metadata": {},
   "outputs": [
    {
     "name": "stdout",
     "output_type": "stream",
     "text": [
      "              precision    recall  f1-score   support\n",
      "\n",
      "           1       0.64      0.10      0.18        69\n",
      "           2       0.00      0.00      0.00        44\n",
      "           3       0.89      1.00      0.94       887\n",
      "\n",
      "    accuracy                           0.89      1000\n",
      "   macro avg       0.51      0.37      0.37      1000\n",
      "weighted avg       0.84      0.89      0.85      1000\n",
      "\n",
      "[[  7   0  62]\n",
      " [  0   0  44]\n",
      " [  4   0 883]]\n"
     ]
    },
    {
     "name": "stderr",
     "output_type": "stream",
     "text": [
      "C:\\Users\\user\\anaconda3\\lib\\site-packages\\sklearn\\metrics\\_classification.py:1221: UndefinedMetricWarning: Precision and F-score are ill-defined and being set to 0.0 in labels with no predicted samples. Use `zero_division` parameter to control this behavior.\n",
      "  _warn_prf(average, modifier, msg_start, len(result))\n"
     ]
    }
   ],
   "source": [
    "#calculate confusion matrix, precision, recall, and f1-score\n",
    "print(classification_report(y_test, y_pred))\n",
    "print(confusion_matrix(y_test, y_pred))"
   ]
  },
  {
   "cell_type": "markdown",
   "metadata": {},
   "source": [
    "由上述資訊可以發現, 模型在好評的準確度高(precision, recall都高), 而在差評的部分表現較不理想, 在普通評價的部分大部分跟差評搞混,\n",
    "同學可以試著學習到的各種方法來提升模型的表現"
   ]
  },
  {
   "cell_type": "code",
   "execution_count": null,
   "metadata": {},
   "outputs": [],
   "source": []
  }
 ],
 "metadata": {
  "kernelspec": {
   "display_name": "Python 3",
   "language": "python",
   "name": "python3"
  },
  "language_info": {
   "codemirror_mode": {
    "name": "ipython",
    "version": 3
   },
   "file_extension": ".py",
   "mimetype": "text/x-python",
   "name": "python",
   "nbconvert_exporter": "python",
   "pygments_lexer": "ipython3",
   "version": "3.8.3"
  }
 },
 "nbformat": 4,
 "nbformat_minor": 2
}
