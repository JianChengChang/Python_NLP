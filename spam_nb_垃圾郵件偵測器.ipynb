{
 "cells": [
  {
   "cell_type": "code",
   "execution_count": 14,
   "metadata": {
    "id": "v8kTUPx0FxZC"
   },
   "outputs": [],
   "source": [
    "from __future__ import print_function, division\n",
    "from builtins import range\n",
    "\n",
    "import pandas as pd\n",
    "import numpy as np\n",
    "from sklearn.model_selection import train_test_split"
   ]
  },
  {
   "cell_type": "code",
   "execution_count": 15,
   "metadata": {
    "id": "Cr2Tsy5iF-ig"
   },
   "outputs": [],
   "source": [
    "# 註: 理論上 multinomial NB 是針對出現次數 \"counts\", 但文件上說對出現比率 \"word proportions\"也適合\n",
    "\n",
    "data = pd.read_csv('spambase.data').values # use pandas for convenience\n",
    "np.random.shuffle(data) # shuffle each row in-place, but preserve the row\n",
    "\n",
    "X = data[:,:48]\n",
    "Y = data[:,-1]\n",
    "\n",
    "# 不一定用100列 作測試 100->80 試試\n",
    "Xtrain, Xtest, Ytrain, Ytest = train_test_split(X,Y,test_size = 0.2)"
   ]
  },
  {
   "cell_type": "code",
   "execution_count": 16,
   "metadata": {
    "colab": {
     "base_uri": "https://localhost:8080/"
    },
    "id": "KtSCF-82GHRd",
    "outputId": "2e278714-2d1f-4e5b-969f-8313086cfdf6"
   },
   "outputs": [
    {
     "name": "stdout",
     "output_type": "stream",
     "text": [
      "Classification rate for NB: 0.883695652173913\n"
     ]
    }
   ],
   "source": [
    "\n",
    "# 我們在習題中，先試Naive Bayes\n",
    "from sklearn.naive_bayes import MultinomialNB\n",
    "model = MultinomialNB()\n",
    "model.fit(Xtrain, Ytrain)\n",
    "print(\"Classification rate for NB:\", model.score(Xtest, Ytest))"
   ]
  },
  {
   "cell_type": "code",
   "execution_count": 17,
   "metadata": {
    "colab": {
     "base_uri": "https://localhost:8080/"
    },
    "id": "LbamETjPFmOh",
    "outputId": "3a61d09a-ed90-4743-b912-62a378fdaff4"
   },
   "outputs": [
    {
     "name": "stdout",
     "output_type": "stream",
     "text": [
      "Classification rate for Decision Tree: 0.9097826086956522\n"
     ]
    }
   ],
   "source": [
    "# Decision Tree 的準確度如何？\n",
    "from sklearn.tree import DecisionTreeClassifier\n",
    "model = DecisionTreeClassifier()\n",
    "model.fit(Xtrain, Ytrain)\n",
    "print(\"Classification rate for Decision Tree:\", model.score(Xtest, Ytest))\n",
    "\n"
   ]
  },
  {
   "cell_type": "code",
   "execution_count": 18,
   "metadata": {
    "colab": {
     "base_uri": "https://localhost:8080/"
    },
    "id": "o4NlEJ0LGDsm",
    "outputId": "06fea177-2f4a-46df-fcc2-77925e5aafcb"
   },
   "outputs": [
    {
     "name": "stdout",
     "output_type": "stream",
     "text": [
      "Classification rate for AdaBoost: 0.9184782608695652\n"
     ]
    }
   ],
   "source": [
    "##### 任何 model都行，以下試試 AdaBoost! #####\n",
    "from sklearn.ensemble import AdaBoostClassifier\n",
    "model = AdaBoostClassifier()\n",
    "model.fit(Xtrain, Ytrain)\n",
    "print(\"Classification rate for AdaBoost:\", model.score(Xtest, Ytest))\n",
    "\n",
    "#####也可試試其他的\n",
    "## https://scikit-learn.org/stable/auto_examples/classification/plot_classifier_comparison.html\n"
   ]
  },
  {
   "cell_type": "code",
   "execution_count": 31,
   "metadata": {},
   "outputs": [
    {
     "name": "stdout",
     "output_type": "stream",
     "text": [
      "\tC: 100.0\n",
      "\tgamma: 0.01\n"
     ]
    }
   ],
   "source": [
    "# SVM\n",
    "from sklearn.svm import SVC\n",
    "from sklearn.model_selection import GridSearchCV\n",
    "\n",
    "\n",
    "param = {\n",
    "    'C': np.logspace(0,2,10).tolist(),\n",
    "    'gamma':[0, 0.1, 0.01,0.001]\n",
    "}\n",
    "\n",
    "gbm = GridSearchCV(model,param,cv=4)\n",
    "gbm.fit(Xtrain,Ytrain)\n",
    "best = gbm.best_estimator_.get_params()\n",
    "for n in sorted(param.keys()):\n",
    "    print(\"\\t%s: %r\" % (n, best[n]))"
   ]
  },
  {
   "cell_type": "code",
   "execution_count": 32,
   "metadata": {},
   "outputs": [
    {
     "name": "stdout",
     "output_type": "stream",
     "text": [
      "Classification rate for SVM: 0.925\n"
     ]
    }
   ],
   "source": [
    "model = SVC(kernel = 'rbf',C = 100, gamma = 0.01)\n",
    "model.fit(Xtrain,Ytrain)\n",
    "print(\"Classification rate for SVM:\", model.score(Xtest, Ytest))"
   ]
  }
 ],
 "metadata": {
  "colab": {
   "name": "spam_nb_垃圾郵件偵測器_習題解答.ipynb",
   "provenance": []
  },
  "kernelspec": {
   "display_name": "Python 3",
   "language": "python",
   "name": "python3"
  },
  "language_info": {
   "codemirror_mode": {
    "name": "ipython",
    "version": 3
   },
   "file_extension": ".py",
   "mimetype": "text/x-python",
   "name": "python",
   "nbconvert_exporter": "python",
   "pygments_lexer": "ipython3",
   "version": "3.7.6"
  }
 },
 "nbformat": 4,
 "nbformat_minor": 1
}
